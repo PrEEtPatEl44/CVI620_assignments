{
 "cells": [
  {
   "cell_type": "code",
   "execution_count": 1,
   "id": "3378dd64",
   "metadata": {},
   "outputs": [
    {
     "name": "stdout",
     "output_type": "stream",
     "text": [
      "Linear Regression Coefficients: [91812.88161783 -9228.29492234]\n",
      "SGD Regressor Coefficients: [91562.12138597 -9055.77671988]\n",
      "Linear Regression Mean Squared Error: 4633084874.491785\n",
      "SGD Regressor Mean Squared Error: 4650890751.7030735\n",
      "Linear Regression Mean absolute Error: 55676.84075591748\n",
      "SGD Regressor Mean absolute Error: 55761.613766584545\n",
      "Linear Regression Root Mean Squared Error: 68066.76776880026\n",
      "SGD Regressor Root Mean Squared Error: 68197.43948054849\n",
      "Linear Regression Mean Absolute Percentage Error: 0.1433158912447447\n",
      "SGD Regressor Mean Absolute Percentage Error: 0.14343961947985692\n"
     ]
    }
   ],
   "source": [
    "import pandas as pd\n",
    "import numpy as np\n",
    "import os\n",
    "from sklearn.model_selection import train_test_split\n",
    "from sklearn.linear_model import LinearRegression\n",
    "from sklearn.linear_model import SGDRegressor\n",
    "from sklearn.metrics import mean_squared_error, mean_absolute_error, root_mean_squared_error, mean_absolute_percentage_error\n",
    "from sklearn.preprocessing import StandardScaler\n",
    "\n",
    "# had to get the abs path because of the directory structure\n",
    "\n",
    "script_dir = os.getcwd()\n",
    "csv_path = os.path.join(script_dir, 'house_price.csv')\n",
    "\n",
    "#DATA\n",
    "\n",
    "data = pd.read_csv(csv_path)\n",
    "\n",
    "X = data.iloc[:, :-1]\n",
    "y = data.iloc[:, -1]\n",
    "\n",
    "X_train, X_test, y_train, y_test = train_test_split(X, y, test_size=0.2)   \n",
    "sc = StandardScaler()\n",
    "X_train = sc.fit_transform(X_train)\n",
    "X_test = sc.transform(X_test)\n",
    "\n",
    "# MODEL\n",
    "model_lr = LinearRegression()\n",
    "model_sgd = SGDRegressor()\n",
    "model_lr.fit(X_train, y_train)\n",
    "model_sgd.fit(X_train, y_train)\n",
    "\n",
    "# EVALUATE\n",
    "\n",
    "y_pred_lr = model_lr.predict(X_test)\n",
    "y_pred_sgd = model_sgd.predict(X_test)\n",
    "\n",
    "# https://scikit-learn.org/stable/modules/generated/sklearn.linear_model.LinearRegression.html\n",
    "\n",
    "print(\"Linear Regression Coefficients:\", model_lr.coef_)\n",
    "print(\"SGD Regressor Coefficients:\", model_sgd.coef_)\n",
    "\n",
    "print(\"Linear Regression Mean Squared Error:\", mean_squared_error(y_test, y_pred_lr))\n",
    "print(\"SGD Regressor Mean Squared Error:\", mean_squared_error(y_test, y_pred_sgd))\n",
    "\n",
    "\n",
    "print(\"Linear Regression Mean absolute Error:\", mean_absolute_error(y_test, y_pred_lr))\n",
    "print(\"SGD Regressor Mean absolute Error:\", mean_absolute_error(y_test, y_pred_sgd))\n",
    "\n",
    "print(\"Linear Regression Root Mean Squared Error:\", root_mean_squared_error(y_test, y_pred_lr))\n",
    "print(\"SGD Regressor Root Mean Squared Error:\", root_mean_squared_error(y_test, y_pred_sgd))\n",
    "\n",
    "print(\"Linear Regression Mean Absolute Percentage Error:\", mean_absolute_percentage_error(y_test, y_pred_lr))\n",
    "print(\"SGD Regressor Mean Absolute Percentage Error:\", mean_absolute_percentage_error(y_test, y_pred_sgd))\n"
   ]
  },
  {
   "cell_type": "markdown",
   "id": "9e26ba1a",
   "metadata": {},
   "source": [
    "### Definations\n",
    "MAE: the average of difference b/w actual and predicted values\n",
    "\n",
    "MSE: the average of the squared differences between actual and predicted values\n",
    "\n",
    "RMSE: the square root of the average of the squared differences between actual and predicted value\n",
    "\n",
    "### Interpretation\n",
    "\n",
    "which one to use is largely dependent on the dataset and the problem \n",
    "\n",
    "I was able to find the followin when searching about these three errors\n",
    "\n",
    "outliers are something in a dataset that are largely different from the rest of the data\n",
    "\n",
    "MAE: is less sensitive to outliers\n",
    "\n",
    "MSE: is more sensitive to outliers and gives huge error value due to large outliers, a few articles also list\n",
    "that this changes the unit because it squares the error but i did not understand what they were saying by it\n",
    "\n",
    "RMSE: is also sensitive to outliers and gives more weight to larger errors it is in the same unit \n",
    "(again i not sure what they mean by this statement about unit)\n",
    "\n",
    "https://www.youtube.com/watch?v=fk7bzKFDmk8&t=576s\n",
    "\n",
    "https://dev.to/mondal_sabbha/understanding-mae-mse-and-rmse-key-metrics-in-machine-learning-4la2"
   ]
  }
 ],
 "metadata": {
  "kernelspec": {
   "display_name": "class_venv",
   "language": "python",
   "name": "class_venv"
  },
  "language_info": {
   "codemirror_mode": {
    "name": "ipython",
    "version": 3
   },
   "file_extension": ".py",
   "mimetype": "text/x-python",
   "name": "python",
   "nbconvert_exporter": "python",
   "pygments_lexer": "ipython3",
   "version": "3.13.3"
  }
 },
 "nbformat": 4,
 "nbformat_minor": 5
}
